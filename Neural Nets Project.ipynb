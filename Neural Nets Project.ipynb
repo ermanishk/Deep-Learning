{
 "cells": [
  {
   "cell_type": "markdown",
   "metadata": {},
   "source": [
    "# Gesture Recognition\n",
    "## Deep Learning Project - Gesture Recognition\n",
    "\n",
    "### Problem Statement\n",
    "Imagine you are working as a data scientist at a home electronics company which manufactures state of the art smart televisions. You want to develop a cool feature in the smart-TV that can recognise five different gestures performed by the user which will help users control the TV without using a remote.\n",
    "\n",
    "The gestures are continuously monitored by the webcam mounted on the TV. Each gesture corresponds to a specific command.\n",
    "\n",
    "### Objectives:\n",
    "1. **Generator**:  The generator should be able to take a batch of videos as input without any error. Steps like cropping, resizing and normalization should be performed successfully.\n",
    "\n",
    "2. **Model**: Develop a model that is able to train without any errors which will be judged on the total number of parameters (as the inference(prediction) time should be less) and the accuracy achieved. As suggested by Snehansu, start training on a small amount of data and then proceed further.\n",
    "\n",
    "3. **Write up**: This should contain the detailed procedure followed in choosing the final model. The write up should start with the reason for choosing the base model, then highlight the reasons and metrics taken into consideration to modify and experiment to arrive at the final model. "
   ]
  },
  {
   "cell_type": "code",
   "execution_count": 5,
   "metadata": {},
   "outputs": [],
   "source": [
    "import numpy as np\n",
    "import os\n",
    "from scipy.misc import imread, imresize\n",
    "import datetime\n",
    "import os\n",
    "import imageio"
   ]
  },
  {
   "cell_type": "markdown",
   "metadata": {},
   "source": [
    "We set the random seed so that the results don't vary drastically."
   ]
  },
  {
   "cell_type": "code",
   "execution_count": 6,
   "metadata": {},
   "outputs": [],
   "source": [
    "np.random.seed(30)\n",
    "import random as rn\n",
    "rn.seed(30)\n",
    "import tensorflow as tf\n",
    "tf.random.set_seed(30)"
   ]
  },
  {
   "cell_type": "markdown",
   "metadata": {},
   "source": [
    "In this block, we read the folder names for training and validation. we also set the `batch_size` here. Note that you set the batch size in such a way that you are able to use the GPU in full capacity. we keep increasing the batch size until the machine throws an error."
   ]
  },
  {
   "cell_type": "code",
   "execution_count": 7,
   "metadata": {},
   "outputs": [],
   "source": [
    "train_doc = np.random.permutation(open('Project_data/train.csv').readlines())\n",
    "val_doc = np.random.permutation(open('Project_data/val.csv').readlines())\n",
    "batch_size = 10"
   ]
  },
  {
   "cell_type": "markdown",
   "metadata": {},
   "source": [
    "## Generator\n",
    "The overall structure of the generator has been given. In the generator, you are going to preprocess the images as we have images of 2 different dimensions as well as create a batch of video frames. we have to experiment with `img_idx`, `y`,`z` and normalization such that you get high accuracy."
   ]
  },
  {
   "cell_type": "code",
   "execution_count": 21,
   "metadata": {},
   "outputs": [],
   "source": [
    "#Defining variables \n",
    "x = 30 #Number of frames\n",
    "y = 120 #Image width\n",
    "z = 120 #Image height\n",
    "\n",
    "def generator(source_path, folder_list, batch_size):\n",
    "    print( 'Source path = ', source_path, '; batch size =', batch_size)\n",
    "    img_idx = [x for x in range(0,x)] #create a list of image numbers you want to use for a particular video\n",
    "    while True:\n",
    "        t = np.random.permutation(folder_list)\n",
    "        num_batches = len(folder_list)//batch_size # calculate the number of batches\n",
    "        for batch in range(num_batches): # we iterate over the number of batches\n",
    "            batch_data = np.zeros((batch_size,x,y,z,3)) # x is the number of images you use for each video, (y,z) is the final size of the input images and 3 is the number of channels RGB\n",
    "            batch_labels = np.zeros((batch_size,5)) # batch_labels is the one hot representation of the output\n",
    "            for folder in range(batch_size): # iterate over the batch_size\n",
    "                imgs = os.listdir(source_path+'/'+ t[folder + (batch*batch_size)].split(';')[0]) # read all the images in the folder\n",
    "                for idx,item in enumerate(img_idx): #  Iterate iver the frames/images of a folder to read them in\n",
    "                    image = imread(source_path+'/'+ t[folder + (batch*batch_size)].strip().split(';')[0]+'/'+imgs[item]).astype(np.float32)\n",
    "                    \n",
    "                    #crop the images and resize them. Note that the images are of 2 different shape \n",
    "                    #and the conv3D will throw error if the inputs in a batch have different shapes\n",
    "                    \n",
    "                    temp = imresize(image,(y,z))\n",
    "                    #Converting to gray scale\n",
    "                    temp = temp.mean(axis=-1,keepdims=1) \n",
    "                    temp = temp/127.5-1 #Normalize data\n",
    "                    batch_data[folder,idx] = temp #normalise and feed in the image\n",
    "                    \n",
    "                batch_labels[folder, int(t[folder + (batch*batch_size)].strip().split(';')[2])] = 1\n",
    "                \n",
    "            yield batch_data, batch_labels #you yield the batch_data and the batch_labels, remember what does yield do\n",
    "\n",
    "        \n",
    "        # write the code for the remaining data points which are left after full batches\n",
    "        if (len(folder_list) != batch_size*num_batches):\n",
    "            print(\"Batch: \",num_batches+1,\"Index:\", batch_size)\n",
    "            batch_size = len(folder_list) - (batch_size*num_batches)\n",
    "            batch_data = np.zeros((batch_size,x,y,z,3)) # x is the number of images you use for each video, (y,z) is the final size of the input images and 3 is the number of channels RGB\n",
    "            batch_labels = np.zeros((batch_size,5)) # batch_labels is the one hot representation of the output\n",
    "            for folder in range(batch_size): # iterate over the batch_size\n",
    "                imgs = os.listdir(source_path+'/'+ t[folder + (batch*batch_size)].split(';')[0]) # read all the images in the folder\n",
    "                for idx,item in enumerate(img_idx): #  Iterate iver the frames/images of a folder to read them in\n",
    "                    image = imread(source_path+'/'+ t[folder + (batch*batch_size)].strip().split(';')[0]+'/'+imgs[item]).astype(np.float32)\n",
    "                    \n",
    "                    #crop the images and resize them. Note that the images are of 2 different shape \n",
    "                    #and the conv3D will throw error if the inputs in a batch have different shapes\n",
    "                    temp = imresize(image,(y,z))\n",
    "                    #Converting to gray scale\n",
    "                    temp = temp.mean(axis=-1,keepdims=1) \n",
    "                    temp = temp/127.5-1 #Normalize data\n",
    "                    \n",
    "                    batch_data[folder,idx] = temp\n",
    "                   \n",
    "                batch_labels[folder, int(t[folder + (batch*batch_size)].strip().split(';')[2])] = 1\n",
    "            yield batch_data, batch_labels"
   ]
  },
  {
   "cell_type": "markdown",
   "metadata": {},
   "source": [
    "Note here that a video is represented above in the generator as (number of images, height, width, number of channels). Take this into consideration while creating the model architecture."
   ]
  },
  {
   "cell_type": "code",
   "execution_count": 22,
   "metadata": {},
   "outputs": [
    {
     "name": "stdout",
     "output_type": "stream",
     "text": [
      "# training sequences = 663\n",
      "# validation sequences = 100\n",
      "# epochs = 20\n"
     ]
    }
   ],
   "source": [
    "curr_dt_time = datetime.datetime.now()\n",
    "train_path = 'Project_data/train'\n",
    "val_path = 'Project_data/val'\n",
    "num_train_sequences = len(train_doc)\n",
    "print('# training sequences =', num_train_sequences)\n",
    "num_val_sequences = len(val_doc)\n",
    "print('# validation sequences =', num_val_sequences)\n",
    "num_epochs = 20 # choose the number of epochs\n",
    "print ('# epochs =', num_epochs)"
   ]
  },
  {
   "cell_type": "markdown",
   "metadata": {},
   "source": [
    "## Model\n",
    "Build a Convulational 3-D Model"
   ]
  },
  {
   "cell_type": "code",
   "execution_count": 11,
   "metadata": {},
   "outputs": [],
   "source": [
    "#import requisite libraries\n",
    "import keras as Keras\n",
    "import tensorflow as tf\n",
    "from tensorflow.keras.models import Sequential, Model\n",
    "from tensorflow.keras.layers import Dense, GRU, Flatten, TimeDistributed, Flatten, BatchNormalization, Activation, Dropout\n",
    "from tensorflow.keras.layers import Conv3D, MaxPooling3D\n",
    "from tensorflow.keras.callbacks import ModelCheckpoint, ReduceLROnPlateau\n",
    "from tensorflow.keras import optimizers"
   ]
  },
  {
   "cell_type": "code",
   "execution_count": 37,
   "metadata": {},
   "outputs": [],
   "source": [
    "# Building a 3D CNN\n",
    "filters = [8,16,32,64]\n",
    "dense = [256, 128, 5]\n",
    "\n",
    "# Input\n",
    "input_shape=(30,120,120,3)\n",
    "\n",
    "# Define model\n",
    "model = Sequential()\n",
    "\n",
    "model.add(Conv3D(filters[0], \n",
    "                 kernel_size=(3,3,3), \n",
    "                 input_shape=input_shape,\n",
    "                 padding='same'))\n",
    "model.add(BatchNormalization())\n",
    "model.add(Activation('relu'))\n",
    "\n",
    "model.add(MaxPooling3D(pool_size=(2,2,2)))\n",
    "\n",
    "model.add(Conv3D(filters[1], \n",
    "                 kernel_size=(3,3,3), \n",
    "                 padding='same'))\n",
    "model.add(BatchNormalization())\n",
    "model.add(Activation('relu'))\n",
    "\n",
    "model.add(MaxPooling3D(pool_size=(2,2,2)))\n",
    "\n",
    "model.add(Conv3D(filters[2], \n",
    "                 kernel_size=(1,3,3), \n",
    "                 padding='same'))\n",
    "model.add(BatchNormalization())\n",
    "model.add(Activation('relu'))\n",
    "\n",
    "model.add(MaxPooling3D(pool_size=(2,2,2)))\n",
    "\n",
    "model.add(Conv3D(filters[3], \n",
    "                 kernel_size=(1,3,3), \n",
    "                 padding='same'))\n",
    "model.add(Activation('relu'))\n",
    "model.add(Dropout(0.25))\n",
    "\n",
    "model.add(MaxPooling3D(pool_size=(2,2,2)))\n",
    "\n",
    "#Flatten Layers\n",
    "model.add(Flatten())\n",
    "\n",
    "model.add(Dense(dense[0], activation='relu'))\n",
    "model.add(Dropout(0.5))\n",
    "\n",
    "model.add(Dense(dense[1], activation='relu'))\n",
    "model.add(Dropout(0.5))\n",
    "\n",
    "#softmax layer\n",
    "model.add(Dense(dense[2], activation='softmax'))"
   ]
  },
  {
   "cell_type": "markdown",
   "metadata": {},
   "source": [
    "Now that we have written the model, the next step is to `compile` the model. When you print the `summary` of the model, you'll see the total number of parameters you have to train."
   ]
  },
  {
   "cell_type": "code",
   "execution_count": 38,
   "metadata": {
    "scrolled": true
   },
   "outputs": [
    {
     "name": "stdout",
     "output_type": "stream",
     "text": [
      "Model: \"sequential_5\"\n",
      "_________________________________________________________________\n",
      "Layer (type)                 Output Shape              Param #   \n",
      "=================================================================\n",
      "conv3d_20 (Conv3D)           (None, 30, 120, 120, 8)   656       \n",
      "_________________________________________________________________\n",
      "batch_normalization_15 (Batc (None, 30, 120, 120, 8)   32        \n",
      "_________________________________________________________________\n",
      "activation_20 (Activation)   (None, 30, 120, 120, 8)   0         \n",
      "_________________________________________________________________\n",
      "max_pooling3d_20 (MaxPooling (None, 15, 60, 60, 8)     0         \n",
      "_________________________________________________________________\n",
      "conv3d_21 (Conv3D)           (None, 15, 60, 60, 16)    3472      \n",
      "_________________________________________________________________\n",
      "batch_normalization_16 (Batc (None, 15, 60, 60, 16)    64        \n",
      "_________________________________________________________________\n",
      "activation_21 (Activation)   (None, 15, 60, 60, 16)    0         \n",
      "_________________________________________________________________\n",
      "max_pooling3d_21 (MaxPooling (None, 7, 30, 30, 16)     0         \n",
      "_________________________________________________________________\n",
      "conv3d_22 (Conv3D)           (None, 7, 30, 30, 32)     4640      \n",
      "_________________________________________________________________\n",
      "batch_normalization_17 (Batc (None, 7, 30, 30, 32)     128       \n",
      "_________________________________________________________________\n",
      "activation_22 (Activation)   (None, 7, 30, 30, 32)     0         \n",
      "_________________________________________________________________\n",
      "max_pooling3d_22 (MaxPooling (None, 3, 15, 15, 32)     0         \n",
      "_________________________________________________________________\n",
      "conv3d_23 (Conv3D)           (None, 3, 15, 15, 64)     18496     \n",
      "_________________________________________________________________\n",
      "activation_23 (Activation)   (None, 3, 15, 15, 64)     0         \n",
      "_________________________________________________________________\n",
      "dropout_18 (Dropout)         (None, 3, 15, 15, 64)     0         \n",
      "_________________________________________________________________\n",
      "max_pooling3d_23 (MaxPooling (None, 1, 7, 7, 64)       0         \n",
      "_________________________________________________________________\n",
      "flatten_5 (Flatten)          (None, 3136)              0         \n",
      "_________________________________________________________________\n",
      "dense_15 (Dense)             (None, 256)               803072    \n",
      "_________________________________________________________________\n",
      "dropout_19 (Dropout)         (None, 256)               0         \n",
      "_________________________________________________________________\n",
      "dense_16 (Dense)             (None, 128)               32896     \n",
      "_________________________________________________________________\n",
      "dropout_20 (Dropout)         (None, 128)               0         \n",
      "_________________________________________________________________\n",
      "dense_17 (Dense)             (None, 5)                 645       \n",
      "=================================================================\n",
      "Total params: 864,101\n",
      "Trainable params: 863,989\n",
      "Non-trainable params: 112\n",
      "_________________________________________________________________\n",
      "None\n"
     ]
    }
   ],
   "source": [
    "optimiser = Keras.optimizers.Adam()\n",
    "model.compile(optimizer=optimiser, loss='categorical_crossentropy', metrics=['categorical_accuracy'])\n",
    "print(model.summary())"
   ]
  },
  {
   "cell_type": "markdown",
   "metadata": {},
   "source": [
    "Lets create the `train_generator` and the `val_generator` which will be used in `.fit_generator`."
   ]
  },
  {
   "cell_type": "code",
   "execution_count": 39,
   "metadata": {},
   "outputs": [],
   "source": [
    "train_generator = generator(train_path, train_doc, batch_size)\n",
    "val_generator = generator(val_path, val_doc, batch_size)"
   ]
  },
  {
   "cell_type": "code",
   "execution_count": 40,
   "metadata": {},
   "outputs": [
    {
     "name": "stderr",
     "output_type": "stream",
     "text": [
      "W0502 19:16:22.220221 139697997850432 callbacks.py:1071] `period` argument is deprecated. Please use `save_freq` to specify the frequency in number of batches seen.\n",
      "W0502 19:16:22.221506 139697997850432 callbacks.py:2207] `epsilon` argument is deprecated and will be removed, use `min_delta` instead.\n"
     ]
    }
   ],
   "source": [
    "model_name = 'model_init' + '_' + str(curr_dt_time).replace(' ','').replace(':','_') + '/'\n",
    "    \n",
    "if not os.path.exists(model_name):\n",
    "    os.mkdir(model_name)\n",
    "        \n",
    "filepath = model_name + 'model-{epoch:05d}-{loss:.5f}-{categorical_accuracy:.5f}-{val_loss:.5f}-{val_categorical_accuracy:.5f}.h5'\n",
    "\n",
    "checkpoint = ModelCheckpoint(filepath, monitor='val_loss', verbose=1, save_best_only=False, save_weights_only=False, mode='auto', period=1)\n",
    "\n",
    "LR = ReduceLROnPlateau(monitor = \"val_loss\", factor = 0.1, patience = 5,\n",
    "  verbose = 0, mode = \"auto\", epsilon = 1e-04, cooldown = 0,\n",
    "  min_lr = 0)\n",
    "callbacks_list = [checkpoint, LR]"
   ]
  },
  {
   "cell_type": "markdown",
   "metadata": {},
   "source": [
    "The `steps_per_epoch` and `validation_steps` are used by `fit_generator` to decide the number of next() calls its needed to make."
   ]
  },
  {
   "cell_type": "code",
   "execution_count": 41,
   "metadata": {},
   "outputs": [],
   "source": [
    "if (num_train_sequences%batch_size) == 0:\n",
    "    steps_per_epoch = int(num_train_sequences/batch_size)\n",
    "else:\n",
    "    steps_per_epoch = (num_train_sequences//batch_size) + 1\n",
    "\n",
    "if (num_val_sequences%batch_size) == 0:\n",
    "    validation_steps = int(num_val_sequences/batch_size)\n",
    "else:\n",
    "    validation_steps = (num_val_sequences//batch_size) + 1"
   ]
  },
  {
   "cell_type": "markdown",
   "metadata": {},
   "source": [
    "Lets fit the model. that will start training the model and with the help of the checkpoints, we will be able to save the model at the end of each epoch."
   ]
  },
  {
   "cell_type": "code",
   "execution_count": 42,
   "metadata": {},
   "outputs": [
    {
     "name": "stdout",
     "output_type": "stream",
     "text": [
      "Source path =  Project_data/train ; batch size = 10\n"
     ]
    },
    {
     "name": "stderr",
     "output_type": "stream",
     "text": [
      "/mnt/disks/user/anaconda3/lib/python3.7/site-packages/ipykernel_launcher.py:18: DeprecationWarning: `imread` is deprecated!\n",
      "`imread` is deprecated in SciPy 1.0.0, and will be removed in 1.2.0.\n",
      "Use ``imageio.imread`` instead.\n",
      "/mnt/disks/user/anaconda3/lib/python3.7/site-packages/ipykernel_launcher.py:23: DeprecationWarning: `imresize` is deprecated!\n",
      "`imresize` is deprecated in SciPy 1.0.0, and will be removed in 1.3.0.\n",
      "Use Pillow instead: ``numpy.array(Image.fromarray(arr).resize())``.\n"
     ]
    },
    {
     "name": "stdout",
     "output_type": "stream",
     "text": [
      "Epoch 1/30\n",
      "65/67 [============================>.] - ETA: 2s - loss: 0.9463 - categorical_accuracy: 0.5938Batch:  67 Index: 10\n"
     ]
    },
    {
     "name": "stderr",
     "output_type": "stream",
     "text": [
      "/mnt/disks/user/anaconda3/lib/python3.7/site-packages/ipykernel_launcher.py:43: DeprecationWarning: `imread` is deprecated!\n",
      "`imread` is deprecated in SciPy 1.0.0, and will be removed in 1.2.0.\n",
      "Use ``imageio.imread`` instead.\n",
      "/mnt/disks/user/anaconda3/lib/python3.7/site-packages/ipykernel_launcher.py:47: DeprecationWarning: `imresize` is deprecated!\n",
      "`imresize` is deprecated in SciPy 1.0.0, and will be removed in 1.3.0.\n",
      "Use Pillow instead: ``numpy.array(Image.fromarray(arr).resize())``.\n"
     ]
    },
    {
     "name": "stdout",
     "output_type": "stream",
     "text": [
      "67/67 [==============================] - ETA: 0s - loss: 0.9502 - categorical_accuracy: 0.5897Source path =  Project_data/val ; batch size = 10\n",
      "\n",
      "Epoch 00001: saving model to model_init_2021-05-0218_47_00.822753/model-00001-0.95019-0.58974-1.00431-0.58000.h5\n",
      "67/67 [==============================] - 100s 1s/step - loss: 0.9502 - categorical_accuracy: 0.5897 - val_loss: 1.0043 - val_categorical_accuracy: 0.5800 - lr: 0.0010\n",
      "Epoch 2/30\n",
      "67/67 [==============================] - ETA: 0s - loss: 1.0091 - categorical_accuracy: 0.5920\n",
      "Epoch 00002: saving model to model_init_2021-05-0218_47_00.822753/model-00002-1.00915-0.59204-1.09129-0.57000.h5\n",
      "67/67 [==============================] - 41s 608ms/step - loss: 1.0091 - categorical_accuracy: 0.5920 - val_loss: 1.0913 - val_categorical_accuracy: 0.5700 - lr: 0.0010\n",
      "Epoch 3/30\n",
      "67/67 [==============================] - ETA: 0s - loss: 0.9986 - categorical_accuracy: 0.6119\n",
      "Epoch 00003: saving model to model_init_2021-05-0218_47_00.822753/model-00003-0.99855-0.61194-0.99711-0.53000.h5\n",
      "67/67 [==============================] - 41s 612ms/step - loss: 0.9986 - categorical_accuracy: 0.6119 - val_loss: 0.9971 - val_categorical_accuracy: 0.5300 - lr: 0.0010\n",
      "Epoch 4/30\n",
      "67/67 [==============================] - ETA: 0s - loss: 0.9913 - categorical_accuracy: 0.6219\n",
      "Epoch 00004: saving model to model_init_2021-05-0218_47_00.822753/model-00004-0.99125-0.62189-1.23122-0.51000.h5\n",
      "67/67 [==============================] - 42s 626ms/step - loss: 0.9913 - categorical_accuracy: 0.6219 - val_loss: 1.2312 - val_categorical_accuracy: 0.5100 - lr: 0.0010\n",
      "Epoch 5/30\n",
      "67/67 [==============================] - ETA: 0s - loss: 1.0008 - categorical_accuracy: 0.6269\n",
      "Epoch 00005: saving model to model_init_2021-05-0218_47_00.822753/model-00005-1.00076-0.62687-0.98072-0.55000.h5\n",
      "67/67 [==============================] - 40s 590ms/step - loss: 1.0008 - categorical_accuracy: 0.6269 - val_loss: 0.9807 - val_categorical_accuracy: 0.5500 - lr: 0.0010\n",
      "Epoch 6/30\n",
      "67/67 [==============================] - ETA: 0s - loss: 0.9922 - categorical_accuracy: 0.6169\n",
      "Epoch 00006: saving model to model_init_2021-05-0218_47_00.822753/model-00006-0.99217-0.61692-1.23953-0.44000.h5\n",
      "67/67 [==============================] - 41s 612ms/step - loss: 0.9922 - categorical_accuracy: 0.6169 - val_loss: 1.2395 - val_categorical_accuracy: 0.4400 - lr: 0.0010\n",
      "Epoch 7/30\n",
      "67/67 [==============================] - ETA: 0s - loss: 1.0289 - categorical_accuracy: 0.5970\n",
      "Epoch 00007: saving model to model_init_2021-05-0218_47_00.822753/model-00007-1.02894-0.59701-1.00964-0.54000.h5\n",
      "67/67 [==============================] - 41s 616ms/step - loss: 1.0289 - categorical_accuracy: 0.5970 - val_loss: 1.0096 - val_categorical_accuracy: 0.5400 - lr: 0.0010\n",
      "Epoch 8/30\n",
      "67/67 [==============================] - ETA: 0s - loss: 0.8919 - categorical_accuracy: 0.6418\n",
      "Epoch 00008: saving model to model_init_2021-05-0218_47_00.822753/model-00008-0.89189-0.64179-1.04012-0.57000.h5\n",
      "67/67 [==============================] - 39s 580ms/step - loss: 0.8919 - categorical_accuracy: 0.6418 - val_loss: 1.0401 - val_categorical_accuracy: 0.5700 - lr: 0.0010\n",
      "Epoch 9/30\n",
      "67/67 [==============================] - ETA: 0s - loss: 0.9138 - categorical_accuracy: 0.6318\n",
      "Epoch 00009: saving model to model_init_2021-05-0218_47_00.822753/model-00009-0.91383-0.63184-1.14540-0.46000.h5\n",
      "67/67 [==============================] - 41s 608ms/step - loss: 0.9138 - categorical_accuracy: 0.6318 - val_loss: 1.1454 - val_categorical_accuracy: 0.4600 - lr: 0.0010\n",
      "Epoch 10/30\n",
      "67/67 [==============================] - ETA: 0s - loss: 0.8370 - categorical_accuracy: 0.7065\n",
      "Epoch 00010: saving model to model_init_2021-05-0218_47_00.822753/model-00010-0.83705-0.70647-1.11489-0.57000.h5\n",
      "67/67 [==============================] - 40s 591ms/step - loss: 0.8370 - categorical_accuracy: 0.7065 - val_loss: 1.1149 - val_categorical_accuracy: 0.5700 - lr: 0.0010\n",
      "Epoch 11/30\n",
      "67/67 [==============================] - ETA: 0s - loss: 0.9035 - categorical_accuracy: 0.6517\n",
      "Epoch 00011: saving model to model_init_2021-05-0218_47_00.822753/model-00011-0.90354-0.65174-1.03247-0.62000.h5\n",
      "67/67 [==============================] - 41s 619ms/step - loss: 0.9035 - categorical_accuracy: 0.6517 - val_loss: 1.0325 - val_categorical_accuracy: 0.6200 - lr: 1.0000e-04\n",
      "Epoch 12/30\n",
      "67/67 [==============================] - ETA: 0s - loss: 0.7168 - categorical_accuracy: 0.7264\n",
      "Epoch 00012: saving model to model_init_2021-05-0218_47_00.822753/model-00012-0.71676-0.72637-1.02299-0.61000.h5\n",
      "67/67 [==============================] - 42s 622ms/step - loss: 0.7168 - categorical_accuracy: 0.7264 - val_loss: 1.0230 - val_categorical_accuracy: 0.6100 - lr: 1.0000e-04\n",
      "Epoch 13/30\n",
      "67/67 [==============================] - ETA: 0s - loss: 0.6971 - categorical_accuracy: 0.7512\n",
      "Epoch 00013: saving model to model_init_2021-05-0218_47_00.822753/model-00013-0.69713-0.75124-1.04357-0.64000.h5\n",
      "67/67 [==============================] - 40s 594ms/step - loss: 0.6971 - categorical_accuracy: 0.7512 - val_loss: 1.0436 - val_categorical_accuracy: 0.6400 - lr: 1.0000e-04\n",
      "Epoch 14/30\n",
      "67/67 [==============================] - ETA: 0s - loss: 0.6391 - categorical_accuracy: 0.7761\n",
      "Epoch 00014: saving model to model_init_2021-05-0218_47_00.822753/model-00014-0.63907-0.77612-0.92420-0.62000.h5\n",
      "67/67 [==============================] - 40s 594ms/step - loss: 0.6391 - categorical_accuracy: 0.7761 - val_loss: 0.9242 - val_categorical_accuracy: 0.6200 - lr: 1.0000e-04\n",
      "Epoch 15/30\n",
      "67/67 [==============================] - ETA: 0s - loss: 0.6619 - categorical_accuracy: 0.7313\n",
      "Epoch 00015: saving model to model_init_2021-05-0218_47_00.822753/model-00015-0.66192-0.73134-1.00576-0.60000.h5\n",
      "67/67 [==============================] - 39s 588ms/step - loss: 0.6619 - categorical_accuracy: 0.7313 - val_loss: 1.0058 - val_categorical_accuracy: 0.6000 - lr: 1.0000e-04\n",
      "Epoch 16/30\n",
      "67/67 [==============================] - ETA: 0s - loss: 0.6663 - categorical_accuracy: 0.7214\n",
      "Epoch 00016: saving model to model_init_2021-05-0218_47_00.822753/model-00016-0.66625-0.72139-1.01913-0.55000.h5\n",
      "67/67 [==============================] - 39s 585ms/step - loss: 0.6663 - categorical_accuracy: 0.7214 - val_loss: 1.0191 - val_categorical_accuracy: 0.5500 - lr: 1.0000e-04\n",
      "Epoch 17/30\n",
      "67/67 [==============================] - ETA: 0s - loss: 0.5839 - categorical_accuracy: 0.7612\n",
      "Epoch 00017: saving model to model_init_2021-05-0218_47_00.822753/model-00017-0.58388-0.76119-1.08196-0.59000.h5\n",
      "67/67 [==============================] - 42s 622ms/step - loss: 0.5839 - categorical_accuracy: 0.7612 - val_loss: 1.0820 - val_categorical_accuracy: 0.5900 - lr: 1.0000e-04\n",
      "Epoch 18/30\n",
      "67/67 [==============================] - ETA: 0s - loss: 0.6563 - categorical_accuracy: 0.7114\n",
      "Epoch 00018: saving model to model_init_2021-05-0218_47_00.822753/model-00018-0.65632-0.71144-0.93041-0.61000.h5\n",
      "67/67 [==============================] - 42s 627ms/step - loss: 0.6563 - categorical_accuracy: 0.7114 - val_loss: 0.9304 - val_categorical_accuracy: 0.6100 - lr: 1.0000e-04\n",
      "Epoch 19/30\n",
      "67/67 [==============================] - ETA: 0s - loss: 0.5579 - categorical_accuracy: 0.8109\n",
      "Epoch 00019: saving model to model_init_2021-05-0218_47_00.822753/model-00019-0.55788-0.81095-0.95533-0.56000.h5\n",
      "67/67 [==============================] - 40s 594ms/step - loss: 0.5579 - categorical_accuracy: 0.8109 - val_loss: 0.9553 - val_categorical_accuracy: 0.5600 - lr: 1.0000e-04\n",
      "Epoch 20/30\n",
      "67/67 [==============================] - ETA: 0s - loss: 0.5933 - categorical_accuracy: 0.7114\n",
      "Epoch 00020: saving model to model_init_2021-05-0218_47_00.822753/model-00020-0.59330-0.71144-1.00605-0.57000.h5\n",
      "67/67 [==============================] - 39s 585ms/step - loss: 0.5933 - categorical_accuracy: 0.7114 - val_loss: 1.0061 - val_categorical_accuracy: 0.5700 - lr: 1.0000e-05\n",
      "Epoch 21/30\n",
      "67/67 [==============================] - ETA: 0s - loss: 0.5614 - categorical_accuracy: 0.7811\n",
      "Epoch 00021: saving model to model_init_2021-05-0218_47_00.822753/model-00021-0.56137-0.78109-0.98258-0.58000.h5\n",
      "67/67 [==============================] - 40s 592ms/step - loss: 0.5614 - categorical_accuracy: 0.7811 - val_loss: 0.9826 - val_categorical_accuracy: 0.5800 - lr: 1.0000e-05\n",
      "Epoch 22/30\n",
      "67/67 [==============================] - ETA: 0s - loss: 0.6773 - categorical_accuracy: 0.7512\n",
      "Epoch 00022: saving model to model_init_2021-05-0218_47_00.822753/model-00022-0.67730-0.75124-0.96867-0.58000.h5\n",
      "67/67 [==============================] - 40s 596ms/step - loss: 0.6773 - categorical_accuracy: 0.7512 - val_loss: 0.9687 - val_categorical_accuracy: 0.5800 - lr: 1.0000e-05\n",
      "Epoch 23/30\n",
      "67/67 [==============================] - ETA: 0s - loss: 0.6407 - categorical_accuracy: 0.7463\n",
      "Epoch 00023: saving model to model_init_2021-05-0218_47_00.822753/model-00023-0.64071-0.74627-0.96295-0.59000.h5\n",
      "67/67 [==============================] - 40s 595ms/step - loss: 0.6407 - categorical_accuracy: 0.7463 - val_loss: 0.9630 - val_categorical_accuracy: 0.5900 - lr: 1.0000e-05\n",
      "Epoch 24/30\n",
      "67/67 [==============================] - ETA: 0s - loss: 0.5683 - categorical_accuracy: 0.7910\n",
      "Epoch 00024: saving model to model_init_2021-05-0218_47_00.822753/model-00024-0.56832-0.79104-0.94002-0.60000.h5\n",
      "67/67 [==============================] - 41s 607ms/step - loss: 0.5683 - categorical_accuracy: 0.7910 - val_loss: 0.9400 - val_categorical_accuracy: 0.6000 - lr: 1.0000e-05\n",
      "Epoch 25/30\n",
      "67/67 [==============================] - ETA: 0s - loss: 0.6625 - categorical_accuracy: 0.7612\n",
      "Epoch 00025: saving model to model_init_2021-05-0218_47_00.822753/model-00025-0.66247-0.76119-1.00216-0.59000.h5\n",
      "67/67 [==============================] - 39s 587ms/step - loss: 0.6625 - categorical_accuracy: 0.7612 - val_loss: 1.0022 - val_categorical_accuracy: 0.5900 - lr: 1.0000e-06\n",
      "Epoch 26/30\n",
      "67/67 [==============================] - ETA: 0s - loss: 0.5312 - categorical_accuracy: 0.7811\n",
      "Epoch 00026: saving model to model_init_2021-05-0218_47_00.822753/model-00026-0.53124-0.78109-0.98266-0.56000.h5\n",
      "67/67 [==============================] - 40s 603ms/step - loss: 0.5312 - categorical_accuracy: 0.7811 - val_loss: 0.9827 - val_categorical_accuracy: 0.5600 - lr: 1.0000e-06\n",
      "Epoch 27/30\n",
      "67/67 [==============================] - ETA: 0s - loss: 0.5829 - categorical_accuracy: 0.7960\n",
      "Epoch 00027: saving model to model_init_2021-05-0218_47_00.822753/model-00027-0.58291-0.79602-0.96666-0.62000.h5\n",
      "67/67 [==============================] - 39s 582ms/step - loss: 0.5829 - categorical_accuracy: 0.7960 - val_loss: 0.9667 - val_categorical_accuracy: 0.6200 - lr: 1.0000e-06\n",
      "Epoch 28/30\n",
      "67/67 [==============================] - ETA: 0s - loss: 0.6226 - categorical_accuracy: 0.7711\n",
      "Epoch 00028: saving model to model_init_2021-05-0218_47_00.822753/model-00028-0.62256-0.77114-0.95380-0.56000.h5\n",
      "67/67 [==============================] - 40s 604ms/step - loss: 0.6226 - categorical_accuracy: 0.7711 - val_loss: 0.9538 - val_categorical_accuracy: 0.5600 - lr: 1.0000e-06\n",
      "Epoch 29/30\n",
      "67/67 [==============================] - ETA: 0s - loss: 0.6236 - categorical_accuracy: 0.7363\n",
      "Epoch 00029: saving model to model_init_2021-05-0218_47_00.822753/model-00029-0.62356-0.73632-0.94645-0.57000.h5\n",
      "67/67 [==============================] - 40s 600ms/step - loss: 0.6236 - categorical_accuracy: 0.7363 - val_loss: 0.9464 - val_categorical_accuracy: 0.5700 - lr: 1.0000e-06\n",
      "Epoch 30/30\n",
      "67/67 [==============================] - ETA: 0s - loss: 0.6436 - categorical_accuracy: 0.7214\n",
      "Epoch 00030: saving model to model_init_2021-05-0218_47_00.822753/model-00030-0.64365-0.72139-1.00521-0.59000.h5\n",
      "67/67 [==============================] - 40s 601ms/step - loss: 0.6436 - categorical_accuracy: 0.7214 - val_loss: 1.0052 - val_categorical_accuracy: 0.5900 - lr: 1.0000e-07\n"
     ]
    },
    {
     "data": {
      "text/plain": [
       "<tensorflow.python.keras.callbacks.History at 0x7f0c9857b9b0>"
      ]
     },
     "execution_count": 42,
     "metadata": {},
     "output_type": "execute_result"
    }
   ],
   "source": [
    "batch_size = 10\n",
    "num_epochs = 30\n",
    "model.fit_generator(train_generator, steps_per_epoch=steps_per_epoch, epochs=num_epochs, verbose=1, \n",
    "                    callbacks=callbacks_list, validation_data=val_generator, \n",
    "                    validation_steps=validation_steps, class_weight=None, workers=1, initial_epoch=0)"
   ]
  }
 ],
 "metadata": {
  "kernelspec": {
   "display_name": "Python 3",
   "language": "python",
   "name": "python3"
  },
  "language_info": {
   "codemirror_mode": {
    "name": "ipython",
    "version": 3
   },
   "file_extension": ".py",
   "mimetype": "text/x-python",
   "name": "python",
   "nbconvert_exporter": "python",
   "pygments_lexer": "ipython3",
   "version": "3.7.3"
  }
 },
 "nbformat": 4,
 "nbformat_minor": 2
}
